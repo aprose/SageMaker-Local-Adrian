{
 "cells": [
  {
   "cell_type": "code",
   "execution_count": 1,
   "id": "8dedd39c-30b9-428a-9bc6-76296c05ec2d",
   "metadata": {},
   "outputs": [],
   "source": [
    "#Testing SageMaker"
   ]
  },
  {
   "cell_type": "code",
   "execution_count": null,
   "id": "6a4efd0c-7dd4-46a1-8674-507c9fcf1c18",
   "metadata": {},
   "outputs": [],
   "source": [
    "import sagemaker\n",
    "from sagemaker import get_execution_role\n",
    "\n",
    "sagemaker_session = sagemaker.Session()\n",
    "role = get_execution_role()\n",
    "bucket = sagemaker_session.default_bucket()  # Default S3 bucket"
   ]
  },
  {
   "cell_type": "code",
   "execution_count": 4,
   "id": "ce799c8c-f87d-47b9-9e27-4fa0caab412e",
   "metadata": {},
   "outputs": [],
   "source": [
    "import os\n",
    "os.environ[\"AWS_DEFAULT_REGION\"] = \"us-west-2\"  # or your preferred region"
   ]
  },
  {
   "cell_type": "code",
   "execution_count": 6,
   "id": "016a914a-53b4-4e80-9fed-a2a9833f4d45",
   "metadata": {},
   "outputs": [
    {
     "name": "stdout",
     "output_type": "stream",
     "text": [
      "sagemaker.config INFO - Not applying SDK defaults from location: /etc/xdg/sagemaker/config.yaml\n",
      "sagemaker.config INFO - Not applying SDK defaults from location: /root/.config/sagemaker/config.yaml\n",
      "sagemaker.config INFO - Not applying SDK defaults from location: /etc/xdg/sagemaker/config.yaml\n",
      "sagemaker.config INFO - Not applying SDK defaults from location: /root/.config/sagemaker/config.yaml\n"
     ]
    }
   ],
   "source": [
    "import boto3\n",
    "import os\n",
    "from sagemaker.local import LocalSession\n",
    "\n",
    "# Set region\n",
    "os.environ[\"AWS_DEFAULT_REGION\"] = \"us-west-2\"\n",
    "\n",
    "# Manually create a boto3 session from IAM role credentials (assumed to be available in SageMaker)\n",
    "boto_session = boto3.Session()\n",
    "\n",
    "# Create local session with existing credentials\n",
    "sagemaker_local_session = LocalSession(boto_session=boto_session)\n",
    "sagemaker_local_session.config = {'local': {'local_code': True}}"
   ]
  },
  {
   "cell_type": "code",
   "execution_count": null,
   "id": "d8994c70-b94e-40d4-86d7-b2997254d652",
   "metadata": {},
   "outputs": [],
   "source": []
  }
 ],
 "metadata": {
  "kernelspec": {
   "display_name": "Python 3 (ipykernel)",
   "language": "python",
   "name": "python3"
  },
  "language_info": {
   "codemirror_mode": {
    "name": "ipython",
    "version": 3
   },
   "file_extension": ".py",
   "mimetype": "text/x-python",
   "name": "python",
   "nbconvert_exporter": "python",
   "pygments_lexer": "ipython3",
   "version": "3.10.18"
  }
 },
 "nbformat": 4,
 "nbformat_minor": 5
}
